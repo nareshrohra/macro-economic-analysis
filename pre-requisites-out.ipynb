{
 "cells": [
  {
   "cell_type": "code",
   "execution_count": 1,
   "id": "f6df88e8",
   "metadata": {
    "execution": {
     "iopub.execute_input": "2022-06-18T07:27:12.552136Z",
     "iopub.status.busy": "2022-06-18T07:27:12.551132Z",
     "iopub.status.idle": "2022-06-18T07:27:12.581053Z",
     "shell.execute_reply": "2022-06-18T07:27:12.574075Z"
    },
    "papermill": {
     "duration": 0.046874,
     "end_time": "2022-06-18T07:27:12.589030",
     "exception": false,
     "start_time": "2022-06-18T07:27:12.542156",
     "status": "completed"
    },
    "tags": []
   },
   "outputs": [],
   "source": [
    "import os\n",
    "import importlib"
   ]
  },
  {
   "cell_type": "code",
   "execution_count": 2,
   "id": "e616fde5",
   "metadata": {
    "execution": {
     "iopub.execute_input": "2022-06-18T07:27:12.606983Z",
     "iopub.status.busy": "2022-06-18T07:27:12.605985Z",
     "iopub.status.idle": "2022-06-18T07:27:16.846646Z",
     "shell.execute_reply": "2022-06-18T07:27:16.845649Z"
    },
    "papermill": {
     "duration": 4.250635,
     "end_time": "2022-06-18T07:27:16.849638",
     "exception": false,
     "start_time": "2022-06-18T07:27:12.599003",
     "status": "completed"
    },
    "tags": []
   },
   "outputs": [],
   "source": [
    "os.chdir(r\"C:\\Data\\Personal\\AI ML\\Macro Economics Analysis\")\n",
    "%load_ext autoreload\n",
    "%autoreload 2\n",
    "%run library\n",
    "from library import DataScrapper,ComparativeDataProcessor, EventDataProcessor, EventDataVisualizer, ComparativeDataVisualizer"
   ]
  },
  {
   "cell_type": "markdown",
   "id": "48b38320",
   "metadata": {
    "papermill": {
     "duration": 0.008972,
     "end_time": "2022-06-18T07:27:16.872578",
     "exception": false,
     "start_time": "2022-06-18T07:27:16.863606",
     "status": "completed"
    },
    "tags": []
   },
   "source": [
    "## Setup"
   ]
  },
  {
   "cell_type": "code",
   "execution_count": 3,
   "id": "ab41d347",
   "metadata": {
    "execution": {
     "iopub.execute_input": "2022-06-18T07:27:16.887537Z",
     "iopub.status.busy": "2022-06-18T07:27:16.886540Z",
     "iopub.status.idle": "2022-06-18T07:27:17.018187Z",
     "shell.execute_reply": "2022-06-18T07:27:17.017192Z"
    },
    "papermill": {
     "duration": 0.147611,
     "end_time": "2022-06-18T07:27:17.027170",
     "exception": false,
     "start_time": "2022-06-18T07:27:16.879559",
     "status": "completed"
    },
    "tags": []
   },
   "outputs": [],
   "source": [
    "os.chdir(r\"C:\\Data\\Personal\\Finance\\Market Research\\Data\")"
   ]
  }
 ],
 "metadata": {
  "interpreter": {
   "hash": "d49c3f6d6dd49f9272b571d9fad348ab55b8c6c3f691520d74ed0af1f69c3dd8"
  },
  "kernelspec": {
   "display_name": "Python 3.7.4 64-bit",
   "language": "python",
   "name": "python3"
  },
  "language_info": {
   "codemirror_mode": {
    "name": "ipython",
    "version": 3
   },
   "file_extension": ".py",
   "mimetype": "text/x-python",
   "name": "python",
   "nbconvert_exporter": "python",
   "pygments_lexer": "ipython3",
   "version": "3.7.4"
  },
  "papermill": {
   "default_parameters": {},
   "duration": 8.948112,
   "end_time": "2022-06-18T07:27:17.399205",
   "environment_variables": {},
   "exception": null,
   "input_path": "pre-requisites.ipynb",
   "output_path": "pre-requisites-out.ipynb",
   "parameters": {},
   "start_time": "2022-06-18T07:27:08.451093",
   "version": "2.3.4"
  },
  "widgets": {
   "application/vnd.jupyter.widget-state+json": {
    "state": {
     "339fb79f57634befb27f352b06e0c393": {
      "model_module": "@jupyter-widgets/base",
      "model_module_version": "1.2.0",
      "model_name": "LayoutModel",
      "state": {
       "_model_module": "@jupyter-widgets/base",
       "_model_module_version": "1.2.0",
       "_model_name": "LayoutModel",
       "_view_count": null,
       "_view_module": "@jupyter-widgets/base",
       "_view_module_version": "1.2.0",
       "_view_name": "LayoutView",
       "align_content": null,
       "align_items": null,
       "align_self": null,
       "border": null,
       "bottom": null,
       "display": null,
       "flex": null,
       "flex_flow": null,
       "grid_area": null,
       "grid_auto_columns": null,
       "grid_auto_flow": null,
       "grid_auto_rows": null,
       "grid_column": null,
       "grid_gap": null,
       "grid_row": null,
       "grid_template_areas": null,
       "grid_template_columns": "50% 50%",
       "grid_template_rows": "auto auto auto",
       "height": null,
       "justify_content": null,
       "justify_items": null,
       "left": null,
       "margin": null,
       "max_height": null,
       "max_width": null,
       "min_height": null,
       "min_width": null,
       "object_fit": null,
       "object_position": null,
       "order": null,
       "overflow": null,
       "overflow_x": null,
       "overflow_y": null,
       "padding": null,
       "right": null,
       "top": null,
       "visibility": null,
       "width": "90%"
      }
     },
     "b06a3a4dbabc4e68b4945af3a8455b24": {
      "model_module": "@jupyter-widgets/base",
      "model_module_version": "1.2.0",
      "model_name": "LayoutModel",
      "state": {
       "_model_module": "@jupyter-widgets/base",
       "_model_module_version": "1.2.0",
       "_model_name": "LayoutModel",
       "_view_count": null,
       "_view_module": "@jupyter-widgets/base",
       "_view_module_version": "1.2.0",
       "_view_name": "LayoutView",
       "align_content": null,
       "align_items": null,
       "align_self": null,
       "border": null,
       "bottom": null,
       "display": null,
       "flex": null,
       "flex_flow": null,
       "grid_area": null,
       "grid_auto_columns": null,
       "grid_auto_flow": null,
       "grid_auto_rows": null,
       "grid_column": null,
       "grid_gap": null,
       "grid_row": null,
       "grid_template_areas": null,
       "grid_template_columns": "50% 50%",
       "grid_template_rows": "auto auto auto",
       "height": null,
       "justify_content": null,
       "justify_items": null,
       "left": null,
       "margin": null,
       "max_height": null,
       "max_width": null,
       "min_height": null,
       "min_width": null,
       "object_fit": null,
       "object_position": null,
       "order": null,
       "overflow": null,
       "overflow_x": null,
       "overflow_y": null,
       "padding": null,
       "right": null,
       "top": null,
       "visibility": null,
       "width": "90%"
      }
     }
    },
    "version_major": 2,
    "version_minor": 0
   }
  }
 },
 "nbformat": 4,
 "nbformat_minor": 5
}
