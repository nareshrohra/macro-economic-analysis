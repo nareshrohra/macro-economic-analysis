{
 "cells": [
  {
   "cell_type": "code",
   "execution_count": null,
   "metadata": {},
   "outputs": [],
   "source": [
    "import papermill as pm\n",
    "exe = pm.execute_notebook(\n",
    "   'pre-requisites.ipynb',\n",
    "   'pre-requisites-out.ipynb',\n",
    "    log_output = False\n",
    ")\n",
    "from library import VolatilityDataProcessor, VolatilityDataVisualizer"
   ]
  },
  {
   "cell_type": "markdown",
   "metadata": {},
   "source": [
    "## Analysis\n",
    "### Volatility"
   ]
  },
  {
   "cell_type": "code",
   "execution_count": null,
   "metadata": {},
   "outputs": [],
   "source": [
    "dv = VolatilityDataVisualizer()"
   ]
  },
  {
   "cell_type": "code",
   "execution_count": null,
   "metadata": {},
   "outputs": [],
   "source": [
    "dv.show_input()"
   ]
  },
  {
   "cell_type": "code",
   "execution_count": null,
   "metadata": {},
   "outputs": [],
   "source": [
    "#dv.run_analysis()\n",
    "dv.display_charts()"
   ]
  },
  {
   "cell_type": "markdown",
   "metadata": {},
   "source": [
    "## Unit Test"
   ]
  },
  {
   "cell_type": "code",
   "execution_count": null,
   "metadata": {},
   "outputs": [],
   "source": [
    "import pandas as pd\n",
    "import plotly.express as px\n",
    "import plotly.graph_objects as go\n",
    "from plotly.subplots import make_subplots\n",
    "import numpy as np"
   ]
  },
  {
   "cell_type": "code",
   "execution_count": null,
   "metadata": {},
   "outputs": [],
   "source": [
    "#index = \"Nifty50\"\n",
    "index = \"Nikkie\""
   ]
  },
  {
   "cell_type": "code",
   "execution_count": null,
   "metadata": {},
   "outputs": [],
   "source": [
    "dp = VolatilityDataProcessor()\n",
    "dp.set_input_options(index, 200)\n",
    "df = dp.get_data()\n",
    "yearly_df = dp.get_yearly_data(df, ['green', 'indianred'])"
   ]
  },
  {
   "cell_type": "code",
   "execution_count": null,
   "metadata": {},
   "outputs": [],
   "source": [
    "#fig = go.line(df, x=\"Date\", y=\"Perc Returns Within Cycle\", title='Perc Returns Within Cycle')\n",
    "fig = make_subplots(rows=3, cols=1)\n",
    "line_colors = ['indigo', 'brown', 'orange']\n",
    "for cycle in df['Cycle'].unique():\n",
    "    fig.append_trace(go.Scatter(\n",
    "            x=df[df.Cycle == cycle]['Date'],\n",
    "            y=df[df.Cycle == cycle]['Perc Returns Within Cycle'],\n",
    "            mode='lines', line_color=line_colors[cycle % 3]\n",
    "        ), row=1, col=1)\n",
    "    fig.append_trace(go.Scatter(\n",
    "            x=df[df.Cycle == cycle]['Date'],\n",
    "            y=df[df.Cycle == cycle]['Close'],\n",
    "            mode='lines', line_color=line_colors[cycle % 3]\n",
    "        ), row=2, col=1)\n",
    "\n",
    "fig.append_trace(go.Bar(\n",
    "        x=yearly_df['Year'], \n",
    "        y=yearly_df['Growth_Perc']\n",
    "    ), \n",
    "    row=3, col=1)\n",
    "\n",
    "fig.show()"
   ]
  },
  {
   "cell_type": "code",
   "execution_count": null,
   "metadata": {},
   "outputs": [],
   "source": []
  },
  {
   "cell_type": "code",
   "execution_count": null,
   "metadata": {},
   "outputs": [],
   "source": [
    "yearly_ath_grouped = df[(df['Is ATH'] == True) | (df['Is Lowest Low'] == True)].groupby('Year')\n",
    "yearly_ath_grouped_data = yearly_ath_grouped['Perc low from ATH'].min()"
   ]
  },
  {
   "cell_type": "code",
   "execution_count": null,
   "metadata": {},
   "outputs": [],
   "source": [
    "fig = go.Figure(data=[go.Candlestick(x=yearly_df['Date'],\n",
    "    open=yearly_df['Open'],\n",
    "    high=yearly_df['High'],\n",
    "    low=yearly_df['Low'],\n",
    "    close=yearly_df['Close'],\n",
    "    xhoverformat='%a, %b %d, %Y',\n",
    ")])\n",
    "fig.update_layout(\n",
    "    yaxis_tickformat = 'd',\n",
    "    margin=dict(l=20, r=20, t=50, b=50),\n",
    "    height=200,\n",
    "    font_size=10\n",
    ")\n",
    "#fig.show()\n",
    "\n",
    "fig = px.bar(yearly_df, color=\"GrowthColor\", x='Year', y='Growth_Perc')\n",
    "fig.show()\n",
    "\n",
    "fig = px.bar(yearly_ath_grouped_data, y='Perc low from ATH')\n",
    "fig.update_traces(marker_color='indianred')\n",
    "fig.show()\n",
    "\n"
   ]
  }
 ],
 "metadata": {
  "interpreter": {
   "hash": "d49c3f6d6dd49f9272b571d9fad348ab55b8c6c3f691520d74ed0af1f69c3dd8"
  },
  "kernelspec": {
   "display_name": "Python 3.7.4 64-bit",
   "language": "python",
   "name": "python3"
  },
  "language_info": {
   "codemirror_mode": {
    "name": "ipython",
    "version": 3
   },
   "file_extension": ".py",
   "mimetype": "text/x-python",
   "name": "python",
   "nbconvert_exporter": "python",
   "pygments_lexer": "ipython3",
   "version": "3.7.4"
  },
  "orig_nbformat": 4
 },
 "nbformat": 4,
 "nbformat_minor": 2
}
